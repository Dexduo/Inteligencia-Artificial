{
  "nbformat": 4,
  "nbformat_minor": 0,
  "metadata": {
    "colab": {
      "provenance": [],
      "authorship_tag": "ABX9TyPNGnIHc7NqqQCqT8MBpPlJ",
      "include_colab_link": true
    },
    "kernelspec": {
      "name": "python3",
      "display_name": "Python 3"
    },
    "language_info": {
      "name": "python"
    }
  },
  "cells": [
    {
      "cell_type": "markdown",
      "metadata": {
        "id": "view-in-github",
        "colab_type": "text"
      },
      "source": [
        "<a href=\"https://colab.research.google.com/github/Dexduo/Inteligencia-Artificial/blob/main/Regressao_Linear/regressao_linear.ipynb\" target=\"_parent\"><img src=\"https://colab.research.google.com/assets/colab-badge.svg\" alt=\"Open In Colab\"/></a>"
      ]
    },
    {
      "cell_type": "code",
      "execution_count": 61,
      "metadata": {
        "id": "j6XFE8iYp5H2"
      },
      "outputs": [],
      "source": [
        "import numpy as np\n",
        "import matplotlib.pyplot as plt\n",
        "from random import uniform"
      ]
    },
    {
      "cell_type": "code",
      "source": [
        "x = np.array([i for i in range(5)])\n",
        "y = np.array([i for i in range(5)])"
      ],
      "metadata": {
        "id": "6LQpzCAPsVTD"
      },
      "execution_count": 62,
      "outputs": []
    },
    {
      "cell_type": "code",
      "source": [
        "plt.scatter(x, y)"
      ],
      "metadata": {
        "colab": {
          "base_uri": "https://localhost:8080/",
          "height": 447
        },
        "id": "BEKWM_UKrj9N",
        "outputId": "42a0d994-6142-433c-e980-80f2dda3aa89"
      },
      "execution_count": 63,
      "outputs": [
        {
          "output_type": "execute_result",
          "data": {
            "text/plain": [
              "<matplotlib.collections.PathCollection at 0x7f2f42684790>"
            ]
          },
          "metadata": {},
          "execution_count": 63
        },
        {
          "output_type": "display_data",
          "data": {
            "text/plain": [
              "<Figure size 640x480 with 1 Axes>"
            ],
            "image/png": "[encoded data removed]"
          },
          "metadata": {}
        }
      ]
    },
    {
      "cell_type": "code",
      "source": [
        "ws = np.array([round(uniform(-1, 1), 3) for i in range(2)])\n",
        "ws"
      ],
      "metadata": {
        "colab": {
          "base_uri": "https://localhost:8080/"
        },
        "id": "qpA2nvegsnrS",
        "outputId": "5fe25a11-8445-4035-bd2d-1512304c824b"
      },
      "execution_count": 64,
      "outputs": [
        {
          "output_type": "execute_result",
          "data": {
            "text/plain": [
              "array([-0.845, -0.814])"
            ]
          },
          "metadata": {},
          "execution_count": 64
        }
      ]
    },
    {
      "cell_type": "code",
      "source": [
        "def hipotese(w0, w1, x):\n",
        "  return w0 + w1*x"
      ],
      "metadata": {
        "id": "8KaVDnR_tyKj"
      },
      "execution_count": 65,
      "outputs": []
    },
    {
      "cell_type": "code",
      "source": [
        "hipotese(ws[0], ws[1], x)"
      ],
      "metadata": {
        "colab": {
          "base_uri": "https://localhost:8080/"
        },
        "id": "6EBKTNt7t80b",
        "outputId": "be21d4f7-3cb0-4ac6-c52e-2bf12db3c656"
      },
      "execution_count": 66,
      "outputs": [
        {
          "output_type": "execute_result",
          "data": {
            "text/plain": [
              "array([-0.845, -1.659, -2.473, -3.287, -4.101])"
            ]
          },
          "metadata": {},
          "execution_count": 66
        }
      ]
    },
    {
      "cell_type": "code",
      "source": [
        "plt.scatter(x, y)\n",
        "plt.plot(x, hipotese(ws[0], ws[1], x))"
      ],
      "metadata": {
        "colab": {
          "base_uri": "https://localhost:8080/",
          "height": 447
        },
        "id": "yb2pBjwrxW3v",
        "outputId": "03456e5d-61bb-43a6-b04b-62f703e9c1b6"
      },
      "execution_count": 67,
      "outputs": [
        {
          "output_type": "execute_result",
          "data": {
            "text/plain": [
              "[<matplotlib.lines.Line2D at 0x7f2f426da890>]"
            ]
          },
          "metadata": {},
          "execution_count": 67
        },
        {
          "output_type": "display_data",
          "data": {
            "text/plain": [
              "<Figure size 640x480 with 1 Axes>"
            ],
            "image/png": "[encoded data removed]"
          },
          "metadata": {}
        }
      ]
    },
    {
      "cell_type": "code",
      "source": [
        "def MSE(w0, w1, x, y):\n",
        "  return np.sum((hipotese(w0, w1, x)-y)**2)/len(x)"
      ],
      "metadata": {
        "id": "oh5mSxkow9LE"
      },
      "execution_count": 68,
      "outputs": []
    },
    {
      "cell_type": "code",
      "source": [
        "MSE(ws[0], ws[1], x, y)"
      ],
      "metadata": {
        "colab": {
          "base_uri": "https://localhost:8080/"
        },
        "id": "nyQ6RfNc0hmp",
        "outputId": "1e2935b3-c6de-4e4b-be1b-3f13c0b4aef9"
      },
      "execution_count": 69,
      "outputs": [
        {
          "output_type": "execute_result",
          "data": {
            "text/plain": [
              "26.588920999999992"
            ]
          },
          "metadata": {},
          "execution_count": 69
        }
      ]
    },
    {
      "cell_type": "code",
      "source": [
        "def gradiente(w0, w1, x, y, alpha=0.1, epocas=20):\n",
        "  custo = []\n",
        "  for i in range(epocas):\n",
        "    errow0 = np.sum(hipotese(w0, w1, x) - y)\n",
        "    errow1 = np.sum((hipotese(w0, w1, x) - y)*x)\n",
        "\n",
        "    custo.append(errow1)\n",
        "\n",
        "    w0 = w0 - alpha * (1/len(x)) * errow0\n",
        "    w1 = w1 - alpha * (1/len(x)) * errow1\n",
        "\n",
        "  return w0, w1, custo"
      ],
      "metadata": {
        "id": "yOGjBBh_8TPN"
      },
      "execution_count": 70,
      "outputs": []
    },
    {
      "cell_type": "code",
      "source": [
        "ws[0], ws[1], custo = gradiente(ws[0], ws[1], x, y)"
      ],
      "metadata": {
        "id": "jPnu32MG-IjX"
      },
      "execution_count": 71,
      "outputs": []
    },
    {
      "cell_type": "code",
      "source": [
        "plt.scatter(x, y)\n",
        "plt.plot(x, hipotese(ws[0], ws[1], x))"
      ],
      "metadata": {
        "colab": {
          "base_uri": "https://localhost:8080/",
          "height": 447
        },
        "id": "RhyxXAwS-Rf4",
        "outputId": "86736366-c9ec-4a31-a733-bf222fc3c36e"
      },
      "execution_count": 72,
      "outputs": [
        {
          "output_type": "execute_result",
          "data": {
            "text/plain": [
              "[<matplotlib.lines.Line2D at 0x7f2f41fe28f0>]"
            ]
          },
          "metadata": {},
          "execution_count": 72
        },
        {
          "output_type": "display_data",
          "data": {
            "text/plain": [
              "<Figure size 640x480 with 1 Axes>"
            ],
            "image/png": "[encoded data removed]"
          },
          "metadata": {}
        }
      ]
    },
    {
      "cell_type": "code",
      "source": [
        "MSE(ws[0], ws[1], x, y)"
      ],
      "metadata": {
        "colab": {
          "base_uri": "https://localhost:8080/"
        },
        "id": "ZxzFZY9fJw9w",
        "outputId": "f239bc15-ede4-433a-c926-e100df8c7197"
      },
      "execution_count": 73,
      "outputs": [
        {
          "output_type": "execute_result",
          "data": {
            "text/plain": [
              "0.003444271941602458"
            ]
          },
          "metadata": {},
          "execution_count": 73
        }
      ]
    },
    {
      "cell_type": "code",
      "source": [
        "hipotese(ws[0], ws[1], 5)"
      ],
      "metadata": {
        "colab": {
          "base_uri": "https://localhost:8080/"
        },
        "id": "bpH7Iq3vK7ka",
        "outputId": "7eb5dcab-92b6-4217-9770-99e00c6ab1e4"
      },
      "execution_count": 74,
      "outputs": [
        {
          "output_type": "execute_result",
          "data": {
            "text/plain": [
              "5.076425711420899"
            ]
          },
          "metadata": {},
          "execution_count": 74
        }
      ]
    },
    {
      "cell_type": "code",
      "source": [
        "custo = np.array(custo)\n",
        "plt.plot([i for i in range(20)], np.sqrt(custo**2))"
      ],
      "metadata": {
        "colab": {
          "base_uri": "https://localhost:8080/",
          "height": 447
        },
        "id": "6kmyMRHaLvLG",
        "outputId": "5dcbdb18-47a3-4eb0-fe78-fd81371cf0c9"
      },
      "execution_count": 80,
      "outputs": [
        {
          "output_type": "execute_result",
          "data": {
            "text/plain": [
              "[<matplotlib.lines.Line2D at 0x7f2f41d8b460>]"
            ]
          },
          "metadata": {},
          "execution_count": 80
        },
        {
          "output_type": "display_data",
          "data": {
            "text/plain": [
              "<Figure size 640x480 with 1 Axes>"
            ],
            "image/png": "[encoded data removed]"
          },
          "metadata": {}
        }
      ]
    }
  ]
}